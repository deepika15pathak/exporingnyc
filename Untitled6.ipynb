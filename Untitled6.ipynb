{
  "nbformat": 4,
  "nbformat_minor": 0,
  "metadata": {
    "colab": {
      "provenance": []
    },
    "kernelspec": {
      "name": "python3",
      "display_name": "Python 3"
    },
    "language_info": {
      "name": "python"
    }
  },
  "cells": [
    {
      "cell_type": "code",
      "execution_count": 1,
      "metadata": {
        "id": "7tFNeKvCqipN"
      },
      "outputs": [],
      "source": [
        "# Re-run this cell\n",
        "import pandas as pd\n",
        "\n",
        "# Read in the data\n",
        "schools = pd.read_csv(\"schools.csv\")\n",
        "\n",
        "# Preview the data\n",
        "schools.head()\n",
        "\n",
        "# Start coding here...\n",
        "\n",
        "# Which schools are best for math?\n",
        "best_math_schools = schools[schools[\"average_math\"] >= 640][[\"school_name\", \"average_math\"]].sort_values(\"average_math\", ascending=False)\n",
        "\n",
        "# Calculate total_SAT per school\n",
        "schools[\"total_SAT\"] = schools[\"average_math\"] + schools[\"average_reading\"] + schools[\"average_writing\"]\n",
        "\n",
        "# Who are the top 10 performing schools?\n",
        "top_10_schools = schools.sort_values(\"total_SAT\", ascending=False)[[\"school_name\", \"total_SAT\"]].head(10)\n",
        "\n",
        "# Which NYC borough has the highest standard deviation for total_SAT?\n",
        "boroughs = schools.groupby(\"borough\")[\"total_SAT\"].agg([\"count\", \"mean\", \"std\"]).round(2)\n",
        "\n",
        "# Filter for max std and make borough a column\n",
        "largest_std_dev = boroughs[boroughs[\"std\"] == boroughs[\"std\"].max()]\n",
        "\n",
        "# Rename the columns for clarity\n",
        "largest_std_dev = largest_std_dev.rename(columns={\"count\": \"num_schools\", \"mean\": \"average_SAT\", \"std\": \"std_SAT\"})\n",
        "\n",
        "# Optional: Move borough from index to column\n",
        "largest_std_dev.reset_index(inplace=True)"
      ]
    }
  ]
}